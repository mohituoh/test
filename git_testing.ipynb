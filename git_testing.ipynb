{
  "nbformat": 4,
  "nbformat_minor": 0,
  "metadata": {
    "colab": {
      "name": "git_testing.ipynb",
      "provenance": [],
      "collapsed_sections": [],
      "authorship_tag": "ABX9TyNVbIdNl2BwUl3/+r4pJuP/",
      "include_colab_link": true
    },
    "kernelspec": {
      "name": "python3",
      "display_name": "Python 3"
    }
  },
  "cells": [
    {
      "cell_type": "markdown",
      "metadata": {
        "id": "view-in-github",
        "colab_type": "text"
      },
      "source": [
        "<a href=\"https://colab.research.google.com/github/mohituoh/test/blob/master/git_testing.ipynb\" target=\"_parent\"><img src=\"https://colab.research.google.com/assets/colab-badge.svg\" alt=\"Open In Colab\"/></a>"
      ]
    },
    {
      "cell_type": "code",
      "metadata": {
        "id": "yE6ELsWBvYzR"
      },
      "source": [
        "import numpy as np\n",
        "import pandas as pd"
      ],
      "execution_count": 1,
      "outputs": []
    },
    {
      "cell_type": "code",
      "metadata": {
        "id": "pC-NjkYtvepK"
      },
      "source": [
        "!cd Desktop/\n"
      ],
      "execution_count": 4,
      "outputs": []
    },
    {
      "cell_type": "code",
      "metadata": {
        "id": "iG1nrRxTweA6"
      },
      "source": [
        "!cd Desktop/deeplearning_code/ git init\n"
      ],
      "execution_count": 19,
      "outputs": []
    },
    {
      "cell_type": "code",
      "metadata": {
        "colab": {
          "base_uri": "https://localhost:8080/"
        },
        "id": "nZA5_WARzN97",
        "outputId": "c3ac7682-3275-411c-e287-143bd73b3353"
      },
      "source": [
        "!git status"
      ],
      "execution_count": 23,
      "outputs": [
        {
          "output_type": "stream",
          "text": [
            "warning: could not open directory '.gvfs/': Permission denied\r\n",
            "warning: could not open directory '.dbus/': Permission denied\r\n",
            "On branch master\r\n",
            "\r\n",
            "No commits yet\r\n",
            "\r\n",
            "Untracked files:\r\n",
            "  (use \"git add <file>...\" to include in what will be committed)\r\n",
            "\r\n",
            "\t\u001b[31m.ICEauthority\u001b[m\r\n",
            "\t\u001b[31m.Scilab/\u001b[m\r\n",
            "\t\u001b[31m.Xauthority\u001b[m\r\n",
            "\t\u001b[31m.anaconda/\u001b[m\r\n",
            "\t\u001b[31m.atom/\u001b[m\r\n",
            "\t\u001b[31m.bash_history\u001b[m\r\n",
            "\t\u001b[31m.bash_logout\u001b[m\r\n",
            "\t\u001b[31m.bashrc\u001b[m\r\n",
            "\t\u001b[31m.cache/\u001b[m\r\n",
            "\t\u001b[31m.conda/\u001b[m\r\n",
            "\t\u001b[31m.condarc\u001b[m\r\n",
            "\t\u001b[31m.config/\u001b[m\r\n",
            "\t\u001b[31m.defaults-0.1.0.ini\u001b[m\r\n",
            "\t\u001b[31m.first.py.swp\u001b[m\r\n",
            "\t\u001b[31m.gitconfig\u001b[m\r\n",
            "\t\u001b[31m.gnome/\u001b[m\r\n",
            "\t\u001b[31m.gnupg/\u001b[m\r\n",
            "\t\u001b[31m.ipynb_checkpoints/\u001b[m\r\n",
            "\t\u001b[31m.ipython/\u001b[m\r\n",
            "\t\u001b[31m.java/\u001b[m\r\n",
            "\t\u001b[31m.jupyter/\u001b[m\r\n",
            "\t\u001b[31m.lesshst\u001b[m\r\n",
            "\t\u001b[31m.local/\u001b[m\r\n",
            "\t\u001b[31m.matlab/\u001b[m\r\n",
            "\t\u001b[31m.mohit.py.swp\u001b[m\r\n",
            "\t\u001b[31m.mozilla/\u001b[m\r\n",
            "\t\u001b[31m.pki/\u001b[m\r\n",
            "\t\u001b[31m.profile\u001b[m\r\n",
            "\t\u001b[31m.python_history\u001b[m\r\n",
            "\t\u001b[31m.sort.c.swo\u001b[m\r\n",
            "\t\u001b[31m.sort.c.swp\u001b[m\r\n",
            "\t\u001b[31m.sorted_linked_list.c.swp\u001b[m\r\n",
            "\t\u001b[31m.ssh/\u001b[m\r\n",
            "\t\u001b[31m.sudo_as_admin_successful\u001b[m\r\n",
            "\t\u001b[31m.swp\u001b[m\r\n",
            "\t\u001b[31m.thunderbird/\u001b[m\r\n",
            "\t\u001b[31m.viminfo\u001b[m\r\n",
            "\t\u001b[31m.wget-hsts\u001b[m\r\n",
            "\t\u001b[31m.zshrc\u001b[m\r\n",
            "\t\u001b[31m123\u001b[m\r\n",
            "\t\u001b[31m123.pub\u001b[m\r\n",
            "\t\u001b[31m14] Application Protocols/\u001b[m\r\n",
            "\t\u001b[31m19mcmb13_/\u001b[m\r\n",
            "\t\u001b[31m19mcmb13_scilab/\u001b[m\r\n",
            "\t\u001b[31m4) Memory Management (77)/\u001b[m\r\n",
            "\t\u001b[31m7 INTERNET PROTOCOL/\u001b[m\r\n",
            "\t\u001b[31m7) Threads and system calls(10)/\u001b[m\r\n",
            "\t\u001b[31m8 FRAGMENTAtion/\u001b[m\r\n",
            "\t\u001b[31mAOS(19MCMB13)\u001b[m\r\n",
            "\t\u001b[31mAlgorithms lecture 18 -- Greedy knap sack algorithm_2.mp4\u001b[m\r\n",
            "\t\u001b[31mDSP_22/\u001b[m\r\n",
            "\t\u001b[31mDesktop/\u001b[m\r\n",
            "\t\u001b[31mDocuments/\u001b[m\r\n",
            "\t\u001b[31mDownloads/\u001b[m\r\n",
            "\t\u001b[31m\"Network Monitoring Software _ Network Monitoring Solutions \\342\\200\\223 ManageEngine OpManager_files/\"\u001b[m\r\n",
            "\t\u001b[31mPHYSICAL_WEB\u001b[m\r\n",
            "\t\u001b[31mPictures/\u001b[m\r\n",
            "\t\u001b[31mUntitled Folder/\u001b[m\r\n",
            "\t\u001b[31mUntitled.ipynb\u001b[m\r\n",
            "\t\u001b[31mUntitled1.ipynb\u001b[m\r\n",
            "\t\u001b[31mUntitled2.ipynb\u001b[m\r\n",
            "\t\u001b[31mUntitled3.ipynb\u001b[m\r\n",
            "\t\u001b[31mUntitled4.ipynb\u001b[m\r\n",
            "\t\u001b[31mUntitled5.ipynb\u001b[m\r\n",
            "\t\u001b[31mVideos/\u001b[m\r\n",
            "\t\u001b[31mabout.html\u001b[m\r\n",
            "\t\u001b[31manaconda3/\u001b[m\r\n",
            "\t\u001b[31mbspre/\u001b[m\r\n",
            "\t\u001b[31mcars/\u001b[m\r\n",
            "\t\u001b[31mchild psu\u001b[m\r\n",
            "\t\u001b[31mdisjoint_pairs.ipynb\u001b[m\r\n",
            "\t\u001b[31mdll.c\u001b[m\r\n",
            "\t\u001b[31mds/\u001b[m\r\n",
            "\t\u001b[31mdupst.c\u001b[m\r\n",
            "\t\u001b[31mexamples.desktop\u001b[m\r\n",
            "\t\u001b[31mexpreson_tree.c\u001b[m\r\n",
            "\t\u001b[31mfenglish convesation lec-1\u001b[m\r\n",
            "\t\u001b[31mfinput.c\u001b[m\r\n",
            "\t\u001b[31mfirst.py\u001b[m\r\n",
            "\t\u001b[31mgoogle-chrome-stable_current_amd64.deb\u001b[m\r\n",
            "\t\u001b[31mgraph_coloring.py\u001b[m\r\n",
            "\t\u001b[31mheader/\u001b[m\r\n",
            "\t\u001b[31mjosephus.c\u001b[m\r\n",
            "\t\u001b[31mjoshepus.c\u001b[m\r\n",
            "\t\u001b[31mlatex/\u001b[m\r\n",
            "\t\u001b[31mlevel_order.c\u001b[m\r\n",
            "\t\u001b[31mlinked_list_Geeks_for_Geeks/\u001b[m\r\n",
            "\t\u001b[31mmatlab_crash_dump.7131-1\u001b[m\r\n",
            "\t\u001b[31mmobile documets/\u001b[m\r\n",
            "\t\u001b[31mmode_of_list.ipynb\u001b[m\r\n",
            "\t\u001b[31mnumpy\u001b[m\r\n",
            "\t\u001b[31mopencv.zip\u001b[m\r\n",
            "\t\u001b[31mopencv/\u001b[m\r\n",
            "\t\u001b[31mopencv_contrib.zip\u001b[m\r\n",
            "\t\u001b[31mopencv_contrib/\u001b[m\r\n",
            "\t\u001b[31mprogram/\u001b[m\r\n",
            "\t\u001b[31mquick_sort.c\u001b[m\r\n",
            "\t\u001b[31mroushan/\u001b[m\r\n",
            "\t\u001b[31mset1.c\u001b[m\r\n",
            "\t\u001b[31mshell/\u001b[m\r\n",
            "\t\u001b[31msorted.c\u001b[m\r\n",
            "\t\u001b[31msorted_list.c\u001b[m\r\n",
            "\t\u001b[31msum_of_Subset.c\u001b[m\r\n",
            "\t\u001b[31mtest-2/\u001b[m\r\n",
            "\t\u001b[31mtest-3/\u001b[m\r\n",
            "\t\u001b[31mtest/\u001b[m\r\n",
            "\t\u001b[31mtraining_19mcmb13/\u001b[m\r\n",
            "\t\u001b[31mweb_crawler.py\u001b[m\r\n",
            "\t\u001b[31mz-artist-names.csv\u001b[m\r\n",
            "\r\n",
            "nothing added to commit but untracked files present (use \"git add\" to track)\r\n"
          ],
          "name": "stdout"
        }
      ]
    }
  ]
}